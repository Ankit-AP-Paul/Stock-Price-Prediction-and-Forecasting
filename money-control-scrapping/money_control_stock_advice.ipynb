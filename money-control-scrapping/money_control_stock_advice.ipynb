{
 "cells": [
  {
   "cell_type": "code",
   "execution_count": 1,
   "metadata": {},
   "outputs": [],
   "source": [
    "from bs4 import BeautifulSoup\n",
    "import requests"
   ]
  },
  {
   "cell_type": "code",
   "execution_count": 2,
   "metadata": {},
   "outputs": [],
   "source": [
    "response = requests.get(\"https://www.moneycontrol.com/stocksmarketsindia/\")"
   ]
  },
  {
   "cell_type": "code",
   "execution_count": 3,
   "metadata": {},
   "outputs": [],
   "source": [
    "webpage=response.text"
   ]
  },
  {
   "cell_type": "code",
   "execution_count": 4,
   "metadata": {},
   "outputs": [],
   "source": [
    "soup=BeautifulSoup(webpage, \"html.parser\")"
   ]
  },
  {
   "cell_type": "code",
   "execution_count": 5,
   "metadata": {},
   "outputs": [],
   "source": [
    "articles=soup.find_all(name=\"div\", class_=\"stck_advice\")"
   ]
  },
  {
   "cell_type": "code",
   "execution_count": 6,
   "metadata": {},
   "outputs": [
    {
     "name": "stdout",
     "output_type": "stream",
     "text": [
      "[<div class=\"stck_advice\"> <!-- Temporarily added width 100% -->\n",
      "<div class=\"title_24px CTR title_botline\">STOCK ADVICE\n",
      "            </div>\n",
      "<div class=\"stktblecnt\">\n",
      "<table cellpadding=\"0\" cellspacing=\"0\" class=\"mctable1\" width=\"100%\">\n",
      "<thead>\n",
      "<tr>\n",
      "<th>Company</th>\n",
      "<th>Price</th>\n",
      "<th colspan=\"2\">Stock Recommendation</th>\n",
      "</tr>\n",
      "</thead>\n",
      "<tbody>\n",
      "<tr>\n",
      "<td><a class=\"robo_medium\" href=\"https://www.moneycontrol.com/india/stockpricequote/computers-software/tcs/TCS\" target=\"_blank\">TCS</a></td>\n",
      "<td>3542.25</td>\n",
      "<td><span class=\"holdadv\">HOLD</span></td>\n",
      "<td>Hold Tata Consultancy Services; target of Rs 3708: ICICI Securities</td>\n",
      "</tr>\n",
      "<tr>\n",
      "<td><a class=\"robo_medium\" href=\"https://www.moneycontrol.com/india/stockpricequote/computers-software/tcs/TCS\" target=\"_blank\">TCS</a></td>\n",
      "<td>3542.25</td>\n",
      "<td><span class=\"buyadv\">BUY</span></td>\n",
      "<td>Buy TCS; target of Rs 4060: Motilal Oswal</td>\n",
      "</tr>\n",
      "<tr>\n",
      "<td><a class=\"robo_medium\" href=\"https://www.moneycontrol.com/india/stockpricequote/online-services/zomato/Z\" target=\"_blank\">Zomato</a></td>\n",
      "<td>109.80</td>\n",
      "<td><span class=\"buyadv\">BUY</span></td>\n",
      "<td>Buy Zomato; target of Rs 160: ICICI Securities</td>\n",
      "</tr>\n",
      "<tr>\n",
      "<td><a class=\"robo_medium\" href=\"https://www.moneycontrol.com/india/stockpricequote/constructioncontracting-real-estate/sobha/SD6\" target=\"_blank\">Sobha</a></td>\n",
      "<td>744.25</td>\n",
      "<td><span class=\"buyadv\">BUY</span></td>\n",
      "<td>Buy Sobha; target of Rs 1024 HDFC Securities</td>\n",
      "</tr>\n",
      "<tr>\n",
      "<td><a class=\"robo_medium\" href=\"https://www.moneycontrol.com/india/stockpricequote/cement-major/ramcocements/MC\" target=\"_blank\">Ramco Cements</a></td>\n",
      "<td>995.35</td>\n",
      "<td><span class=\"buyadv\">BUY</span></td>\n",
      "<td>Buy The Ramco Cements; target of Rs 1130: Sharekhan</td>\n",
      "</tr>\n",
      "<tr>\n",
      "<td><a class=\"robo_medium\" href=\"https://www.moneycontrol.com/india/stockpricequote/chemicals/navinfluorine/NFI\" target=\"_blank\">Navin Fluorine</a></td>\n",
      "<td>3712.75</td>\n",
      "<td><span class=\"buyadv\">BUY</span></td>\n",
      "<td>Buy Navin Fluorine International; target of Rs 5368 HDFC Securities</td>\n",
      "</tr>\n",
      "<tr>\n",
      "<td><a class=\"robo_medium\" href=\"https://www.moneycontrol.com/india/stockpricequote/banks-private-sector/federalbank/FB\" target=\"_blank\">Federal Bank</a></td>\n",
      "<td>149.80</td>\n",
      "<td><span class=\"buyadv\">BUY</span></td>\n",
      "<td>Buy Federal Bank; target of Rs 170: Sharekhan</td>\n",
      "</tr>\n",
      "<tr>\n",
      "<td><a class=\"robo_medium\" href=\"https://www.moneycontrol.com/india/stockpricequote/hotels/indianhotels/IHC\" target=\"_blank\">Indian Hotels</a></td>\n",
      "<td>417.85</td>\n",
      "<td><span class=\"buyadv\">BUY</span></td>\n",
      "<td>Buy Indian Hotels Company; target of Rs 492: Sharekhan</td>\n",
      "</tr>\n",
      "</tbody>\n",
      "</table>\n",
      "<div class=\"viewmore\">\n",
      "<a href=\"https://www.moneycontrol.com/news/expertadvice-250.html\" target=\"_blank\"> Stock Views </a> | \n",
      "                            <a href=\"https://www.moneycontrol.com/news/stocksinnews-142.html\" target=\"_blank\"> Buzzing Stocks </a> | \n",
      "                            <a href=\"https://www.moneycontrol.com/news/broker-research-reports-13.html\" target=\"_blank\"> Research Reports </a> | \n",
      "                            <a href=\"https://www.moneycontrol.com/broker-research/\" target=\"_blank\"> View More <span class=\"viewarw\"></span></a>\n",
      "</div>\n",
      "</div>\n",
      "</div>]\n"
     ]
    }
   ],
   "source": [
    "print(articles)"
   ]
  },
  {
   "cell_type": "code",
   "execution_count": 7,
   "metadata": {},
   "outputs": [],
   "source": [
    "soup2 = BeautifulSoup(str(articles),\"html.parser\")"
   ]
  },
  {
   "cell_type": "code",
   "execution_count": 8,
   "metadata": {},
   "outputs": [],
   "source": [
    "companies=soup2.find_all(name=\"td\")"
   ]
  },
  {
   "cell_type": "code",
   "execution_count": 9,
   "metadata": {},
   "outputs": [
    {
     "name": "stdout",
     "output_type": "stream",
     "text": [
      "[['TCS', '3542.25', 'HOLD', 'Hold Tata Consultancy Services; target of Rs 3708: ICICI Securities'], ['TCS', '3542.25', 'BUY', 'Buy TCS; target of Rs 4060: Motilal Oswal'], ['Zomato', '109.80', 'BUY', 'Buy Zomato; target of Rs 160: ICICI Securities'], ['Sobha', '744.25', 'BUY', 'Buy Sobha; target of Rs 1024 HDFC Securities'], ['Ramco Cements', '995.35', 'BUY', 'Buy The Ramco Cements; target of Rs 1130: Sharekhan'], ['Navin Fluorine', '3712.75', 'BUY', 'Buy Navin Fluorine International; target of Rs 5368 HDFC Securities'], ['Federal Bank', '149.80', 'BUY', 'Buy Federal Bank; target of Rs 170: Sharekhan'], ['Indian Hotels', '417.85', 'BUY', 'Buy Indian Hotels Company; target of Rs 492: Sharekhan']]\n"
     ]
    }
   ],
   "source": [
    "recommeded_stocks=[]\n",
    "temp=[]\n",
    "i=0\n",
    "for data in companies:\n",
    "    temp.append(data.getText())\n",
    "    i+=1\n",
    "    if i==4:\n",
    "        recommeded_stocks.append(temp)\n",
    "        temp=[]\n",
    "        i=0\n",
    "print(recommeded_stocks)"
   ]
  },
  {
   "cell_type": "code",
   "execution_count": null,
   "metadata": {},
   "outputs": [],
   "source": []
  }
 ],
 "metadata": {
  "kernelspec": {
   "display_name": "Python 3",
   "language": "python",
   "name": "python3"
  },
  "language_info": {
   "codemirror_mode": {
    "name": "ipython",
    "version": 3
   },
   "file_extension": ".py",
   "mimetype": "text/x-python",
   "name": "python",
   "nbconvert_exporter": "python",
   "pygments_lexer": "ipython3",
   "version": "3.10.1"
  }
 },
 "nbformat": 4,
 "nbformat_minor": 2
}

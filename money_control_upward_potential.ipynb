{
 "cells": [
  {
   "cell_type": "code",
   "execution_count": 1,
   "metadata": {},
   "outputs": [],
   "source": [
    "from bs4 import BeautifulSoup\n",
    "import requests"
   ]
  },
  {
   "cell_type": "code",
   "execution_count": 2,
   "metadata": {},
   "outputs": [],
   "source": [
    "response = requests.get(\"https://www.moneycontrol.com/stocksmarketsindia/\")"
   ]
  },
  {
   "cell_type": "code",
   "execution_count": 3,
   "metadata": {},
   "outputs": [],
   "source": [
    "webpage=response.text"
   ]
  },
  {
   "cell_type": "code",
   "execution_count": 4,
   "metadata": {},
   "outputs": [],
   "source": [
    "soup=BeautifulSoup(webpage, \"html.parser\")"
   ]
  },
  {
   "cell_type": "code",
   "execution_count": 5,
   "metadata": {},
   "outputs": [
    {
     "name": "stdout",
     "output_type": "stream",
     "text": [
      "[<div class=\"upward_potential\">\n",
      "<div class=\"title_24px CTR title_botline\">Upward Potential <span class=\"\">Investing at market highs? Here are stocks with good upside potential!</span> </div>\n",
      "<div class=\"uppotstk_bx clearfix\">\n",
      "<a href=\"https://www.moneycontrol.com/india/stockpricequote/pharmaceuticals/jbchemicalspharmaceuticals/JBC01\" target=\"_blank\">JB Chemicals and Pharmaceuticals</a>\n",
      "<div class=\"textpercent\">103%</div>\n",
      "<div class=\"upp_bar\"><span class=\"bar1\" style=\"width:103%\"></span></div>\n",
      "</div>\n",
      "<div class=\"uppotstk_bx clearfix\">\n",
      "<a href=\"https://www.moneycontrol.com/india/stockpricequote/iron-steel/shyammetalicsenergy/SME05\" target=\"_blank\">Shyam Metalics &amp; Energy</a>\n",
      "<div class=\"textpercent\">50%</div>\n",
      "<div class=\"upp_bar\"><span class=\"bar1\" style=\"width:50%\"></span></div>\n",
      "</div>\n",
      "<div class=\"uppotstk_bx clearfix\">\n",
      "<a href=\"https://www.moneycontrol.com/india/stockpricequote/online-services/zomato/Z\" target=\"_blank\">Zomato</a>\n",
      "<div class=\"textpercent\">46%</div>\n",
      "<div class=\"upp_bar\"><span class=\"bar1\" style=\"width:46%\"></span></div>\n",
      "</div>\n",
      "<div class=\"uppotstk_bx clearfix\">\n",
      "<a href=\"https://www.moneycontrol.com/india/stockpricequote/textiles-woollen-worsted/raymond/R\" target=\"_blank\">Raymond</a>\n",
      "<div class=\"textpercent\">46%</div>\n",
      "<div class=\"upp_bar\"><span class=\"bar1\" style=\"width:46%\"></span></div>\n",
      "</div>\n",
      "<div class=\"uppotstk_bx clearfix\">\n",
      "<a href=\"https://www.moneycontrol.com/india/stockpricequote/chemicals/navinfluorineinternational/NFI\" target=\"_blank\">Navin Fluorine International</a>\n",
      "<div class=\"textpercent\">45%</div>\n",
      "<div class=\"upp_bar\"><span class=\"bar1\" style=\"width:45%\"></span></div>\n",
      "</div>\n",
      "<div class=\"uppotstk_bx clearfix\">\n",
      "<a href=\"https://www.moneycontrol.com/india/stockpricequote/power-generation-distribution/powergridcorporationindia/PGC\" target=\"_blank\">Power Grid Corporation of India</a>\n",
      "<div class=\"textpercent\">44%</div>\n",
      "<div class=\"upp_bar\"><span class=\"bar1\" style=\"width:44%\"></span></div>\n",
      "</div>\n",
      "<div class=\"uppotstk_bx clearfix\">\n",
      "<a href=\"https://www.moneycontrol.com/india/stockpricequote/infrastructure-general/vatechwabag/VTW\" target=\"_blank\">Va Tech Wabag</a>\n",
      "<div class=\"textpercent\">43%</div>\n",
      "<div class=\"upp_bar\"><span class=\"bar1\" style=\"width:43%\"></span></div>\n",
      "</div>\n",
      "<div class=\"uppotstk_bx clearfix\">\n",
      "<a href=\"https://www.moneycontrol.com/india/stockpricequote/engineering-industrial-equipments/tegaindustries/TI26\" target=\"_blank\">Tega Industries</a>\n",
      "<div class=\"textpercent\">41%</div>\n",
      "<div class=\"upp_bar\"><span class=\"bar1\" style=\"width:41%\"></span></div>\n",
      "</div>\n",
      "</div>]\n"
     ]
    }
   ],
   "source": [
    "articles=soup.find_all(name=\"div\", class_=\"upward_potential\")\n",
    "print(articles)"
   ]
  },
  {
   "cell_type": "code",
   "execution_count": 6,
   "metadata": {},
   "outputs": [],
   "source": [
    "soup2=BeautifulSoup(str(articles),\"html.parser\")"
   ]
  },
  {
   "cell_type": "code",
   "execution_count": 7,
   "metadata": {},
   "outputs": [],
   "source": [
    "recommeded_stocks=[]"
   ]
  },
  {
   "cell_type": "code",
   "execution_count": 8,
   "metadata": {},
   "outputs": [],
   "source": [
    "companies=soup2.find_all(name=\"a\")\n",
    "temp=[]\n",
    "for i in companies:\n",
    "    temp.append(i.getText())\n",
    "    recommeded_stocks.append(temp)\n",
    "    temp=[]"
   ]
  },
  {
   "cell_type": "code",
   "execution_count": 9,
   "metadata": {},
   "outputs": [],
   "source": [
    "percent=soup2.find_all(name=\"div\", class_=\"textpercent\")\n",
    "temp=[]\n",
    "i=0\n",
    "for p in percent:\n",
    "    recommeded_stocks[i].append(p.getText())\n",
    "    i+=1"
   ]
  },
  {
   "cell_type": "code",
   "execution_count": 10,
   "metadata": {},
   "outputs": [
    {
     "name": "stdout",
     "output_type": "stream",
     "text": [
      "[['JB Chemicals and Pharmaceuticals', '103%'], ['Shyam Metalics & Energy', '50%'], ['Zomato', '46%'], ['Raymond', '46%'], ['Navin Fluorine International', '45%'], ['Power Grid Corporation of India', '44%'], ['Va Tech Wabag', '43%'], ['Tega Industries', '41%']]\n"
     ]
    }
   ],
   "source": [
    "print(recommeded_stocks)"
   ]
  },
  {
   "cell_type": "code",
   "execution_count": null,
   "metadata": {},
   "outputs": [],
   "source": []
  }
 ],
 "metadata": {
  "kernelspec": {
   "display_name": "Python 3",
   "language": "python",
   "name": "python3"
  },
  "language_info": {
   "codemirror_mode": {
    "name": "ipython",
    "version": 3
   },
   "file_extension": ".py",
   "mimetype": "text/x-python",
   "name": "python",
   "nbconvert_exporter": "python",
   "pygments_lexer": "ipython3",
   "version": "3.10.1"
  }
 },
 "nbformat": 4,
 "nbformat_minor": 2
}

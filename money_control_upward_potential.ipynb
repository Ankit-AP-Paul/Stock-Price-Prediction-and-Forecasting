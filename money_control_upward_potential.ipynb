{
 "cells": [
  {
   "cell_type": "code",
   "execution_count": 1,
   "metadata": {},
   "outputs": [],
   "source": [
    "from bs4 import BeautifulSoup\n",
    "import requests"
   ]
  },
  {
   "cell_type": "code",
   "execution_count": 2,
   "metadata": {},
   "outputs": [],
   "source": [
    "response = requests.get(\"https://www.moneycontrol.com/stocksmarketsindia/\")"
   ]
  },
  {
   "cell_type": "code",
   "execution_count": 3,
   "metadata": {},
   "outputs": [],
   "source": [
    "webpage=response.text"
   ]
  },
  {
   "cell_type": "code",
   "execution_count": 4,
   "metadata": {},
   "outputs": [],
   "source": [
    "soup=BeautifulSoup(webpage, \"html.parser\")"
   ]
  },
  {
   "cell_type": "code",
   "execution_count": 14,
   "metadata": {},
   "outputs": [
    {
     "name": "stdout",
     "output_type": "stream",
     "text": [
      "[<div class=\"upward_potential\">\n",
      "<div class=\"title_24px CTR title_botline\">Upward Potential <span class=\"\">Investing at market highs? Here are stocks with good upside potential!</span> </div>\n",
      "<div class=\"uppotstk_bx clearfix\">\n",
      "<a href=\"https://www.moneycontrol.com/india/stockpricequote/pharmaceuticals/jbchemicalspharmaceuticals/JBC01\" target=\"_blank\">JB Chemicals and Pharmaceuticals</a>\n",
      "<div class=\"textpercent\">100%</div>\n",
      "<div class=\"upp_bar\"><span class=\"bar1\" style=\"width:100%\"></span></div>\n",
      "</div>\n",
      "<div class=\"uppotstk_bx clearfix\">\n",
      "<a href=\"https://www.moneycontrol.com/india/stockpricequote/iron-steel/shyammetalicsenergy/SME05\" target=\"_blank\">Shyam Metalics &amp; Energy</a>\n",
      "<div class=\"textpercent\">59%</div>\n",
      "<div class=\"upp_bar\"><span class=\"bar1\" style=\"width:59%\"></span></div>\n",
      "</div>\n",
      "<div class=\"uppotstk_bx clearfix\">\n",
      "<a href=\"https://www.moneycontrol.com/india/stockpricequote/textiles-woollen-worsted/raymond/R\" target=\"_blank\">Raymond</a>\n",
      "<div class=\"textpercent\">46%</div>\n",
      "<div class=\"upp_bar\"><span class=\"bar1\" style=\"width:46%\"></span></div>\n",
      "</div>\n",
      "<div class=\"uppotstk_bx clearfix\">\n",
      "<a href=\"https://www.moneycontrol.com/india/stockpricequote/power-generation-distribution/powergridcorporationindia/PGC\" target=\"_blank\">Power Grid Corporation of India</a>\n",
      "<div class=\"textpercent\">46%</div>\n",
      "<div class=\"upp_bar\"><span class=\"bar1\" style=\"width:46%\"></span></div>\n",
      "</div>\n",
      "<div class=\"uppotstk_bx clearfix\">\n",
      "<a href=\"https://www.moneycontrol.com/india/stockpricequote/chemicals/navinfluorineinternational/NFI\" target=\"_blank\">Navin Fluorine International</a>\n",
      "<div class=\"textpercent\">45%</div>\n",
      "<div class=\"upp_bar\"><span class=\"bar1\" style=\"width:45%\"></span></div>\n",
      "</div>\n",
      "<div class=\"uppotstk_bx clearfix\">\n",
      "<a href=\"https://www.moneycontrol.com/india/stockpricequote/retail/vmartretail/VR03\" target=\"_blank\">V-Mart Retail</a>\n",
      "<div class=\"textpercent\">41%</div>\n",
      "<div class=\"upp_bar\"><span class=\"bar1\" style=\"width:41%\"></span></div>\n",
      "</div>\n",
      "<div class=\"uppotstk_bx clearfix\">\n",
      "<a href=\"https://www.moneycontrol.com/india/stockpricequote/infrastructure-general/vatechwabag/VTW\" target=\"_blank\">Va Tech Wabag</a>\n",
      "<div class=\"textpercent\">41%</div>\n",
      "<div class=\"upp_bar\"><span class=\"bar1\" style=\"width:41%\"></span></div>\n",
      "</div>\n",
      "<div class=\"uppotstk_bx clearfix\">\n",
      "<a href=\"https://www.moneycontrol.com/india/stockpricequote/household-personal-products/eurekaforbes/EF03\" target=\"_blank\">Eureka Forbes</a>\n",
      "<div class=\"textpercent\">41%</div>\n",
      "<div class=\"upp_bar\"><span class=\"bar1\" style=\"width:41%\"></span></div>\n",
      "</div>\n",
      "</div>]\n"
     ]
    }
   ],
   "source": [
    "articles=soup.find_all(name=\"div\", class_=\"upward_potential\")\n",
    "print(articles)"
   ]
  },
  {
   "cell_type": "code",
   "execution_count": 15,
   "metadata": {},
   "outputs": [],
   "source": [
    "soup2=BeautifulSoup(str(articles),\"html.parser\")"
   ]
  },
  {
   "cell_type": "code",
   "execution_count": 35,
   "metadata": {},
   "outputs": [],
   "source": [
    "recommeded_stocks=[]"
   ]
  },
  {
   "cell_type": "code",
   "execution_count": 36,
   "metadata": {},
   "outputs": [],
   "source": [
    "companies=soup2.find_all(name=\"a\")\n",
    "temp=[]\n",
    "for i in companies:\n",
    "    temp.append(i.getText())\n",
    "    recommeded_stocks.append(temp)\n",
    "    temp=[]"
   ]
  },
  {
   "cell_type": "code",
   "execution_count": 37,
   "metadata": {},
   "outputs": [],
   "source": [
    "percent=soup2.find_all(name=\"div\", class_=\"textpercent\")\n",
    "temp=[]\n",
    "i=0\n",
    "for p in percent:\n",
    "    recommeded_stocks[i].append(p.getText())\n",
    "    i+=1"
   ]
  },
  {
   "cell_type": "code",
   "execution_count": 38,
   "metadata": {},
   "outputs": [
    {
     "name": "stdout",
     "output_type": "stream",
     "text": [
      "[['JB Chemicals and Pharmaceuticals', '100%'], ['Shyam Metalics & Energy', '59%'], ['Raymond', '46%'], ['Power Grid Corporation of India', '46%'], ['Navin Fluorine International', '45%'], ['V-Mart Retail', '41%'], ['Va Tech Wabag', '41%'], ['Eureka Forbes', '41%']]\n"
     ]
    }
   ],
   "source": [
    "print(recommeded_stocks)"
   ]
  },
  {
   "cell_type": "code",
   "execution_count": null,
   "metadata": {},
   "outputs": [],
   "source": []
  }
 ],
 "metadata": {
  "kernelspec": {
   "display_name": "Python 3",
   "language": "python",
   "name": "python3"
  },
  "language_info": {
   "codemirror_mode": {
    "name": "ipython",
    "version": 3
   },
   "file_extension": ".py",
   "mimetype": "text/x-python",
   "name": "python",
   "nbconvert_exporter": "python",
   "pygments_lexer": "ipython3",
   "version": "3.10.1"
  }
 },
 "nbformat": 4,
 "nbformat_minor": 2
}

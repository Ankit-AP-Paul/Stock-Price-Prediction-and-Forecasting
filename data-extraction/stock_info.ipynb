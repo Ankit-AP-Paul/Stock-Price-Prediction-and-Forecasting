{
 "cells": [
  {
   "cell_type": "code",
   "execution_count": 5,
   "metadata": {},
   "outputs": [],
   "source": [
    "import yahoo_fin.stock_info as yf\n",
    "import pandas as pd"
   ]
  },
  {
   "cell_type": "code",
   "execution_count": 6,
   "metadata": {},
   "outputs": [],
   "source": [
    "stock_ticker=\"TCS.NS\""
   ]
  },
  {
   "cell_type": "code",
   "execution_count": 37,
   "metadata": {},
   "outputs": [
    {
     "name": "stderr",
     "output_type": "stream",
     "text": [
      "c:\\Users\\ANKIT\\AppData\\Local\\Programs\\Python\\Python310\\lib\\site-packages\\yahoo_fin\\stock_info.py:295: FutureWarning: The frame.append method is deprecated and will be removed from pandas in a future version. Use pandas.concat instead.\n",
      "  data = tables[0].append(tables[1])\n",
      "c:\\Users\\ANKIT\\AppData\\Local\\Programs\\Python\\Python310\\lib\\site-packages\\yahoo_fin\\stock_info.py:302: FutureWarning: The frame.append method is deprecated and will be removed from pandas in a future version. Use pandas.concat instead.\n",
      "  data = data.append(quote_price)\n"
     ]
    }
   ],
   "source": [
    "data=yf.get_quote_table(stock_ticker)\n"
   ]
  },
  {
   "cell_type": "code",
   "execution_count": 38,
   "metadata": {},
   "outputs": [
    {
     "name": "stdout",
     "output_type": "stream",
     "text": [
      "{'1y Target Est': 3902.68, '52 Week Range': '3,070.25 - 3,965.00', 'Ask': '0.00 x 0', 'Avg. Volume': 2035074.0, 'Beta (5Y Monthly)': 0.54, 'Bid': '3,860.65 x 0', \"Day's Range\": '3,855.55 - 3,955.65', 'EPS (TTM)': 122.63, 'Earnings Date': 'Apr 10, 2024 - Apr 15, 2024', 'Ex-Dividend Date': 'Jan 19, 2024', 'Forward Dividend & Yield': '51.00 (1.29%)', 'Market Cap': '13.963T', 'Open': 3948.0, 'PE Ratio (TTM)': 31.47, 'Previous Close': 3902.6, 'Quote Price': 3859.300048828125, 'Volume': 516477.0}\n"
     ]
    }
   ],
   "source": [
    "print(data)"
   ]
  },
  {
   "cell_type": "code",
   "execution_count": 39,
   "metadata": {},
   "outputs": [],
   "source": [
    "df=pd.DataFrame(data, index=[0])\n",
    "df.insert(0, \"Stock Ticker\", stock_ticker)\n",
    "df.to_csv('stock.csv', index=False)"
   ]
  }
 ],
 "metadata": {
  "kernelspec": {
   "display_name": "Python 3",
   "language": "python",
   "name": "python3"
  },
  "language_info": {
   "codemirror_mode": {
    "name": "ipython",
    "version": 3
   },
   "file_extension": ".py",
   "mimetype": "text/x-python",
   "name": "python",
   "nbconvert_exporter": "python",
   "pygments_lexer": "ipython3",
   "version": "3.10.1"
  }
 },
 "nbformat": 4,
 "nbformat_minor": 2
}

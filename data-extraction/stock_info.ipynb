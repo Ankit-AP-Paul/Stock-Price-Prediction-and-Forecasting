{
 "cells": [
  {
   "cell_type": "code",
   "execution_count": 1,
   "metadata": {},
   "outputs": [],
   "source": [
    "import yahoo_fin.stock_info as yf\n",
    "import pandas as pd"
   ]
  },
  {
   "cell_type": "code",
   "execution_count": 2,
   "metadata": {},
   "outputs": [],
   "source": [
    "stock_ticker=\"TCS.NS\""
   ]
  },
  {
   "cell_type": "code",
   "execution_count": 3,
   "metadata": {},
   "outputs": [
    {
     "name": "stderr",
     "output_type": "stream",
     "text": [
      "c:\\Users\\ANKIT\\AppData\\Local\\Programs\\Python\\Python310\\lib\\site-packages\\yahoo_fin\\stock_info.py:295: FutureWarning: The frame.append method is deprecated and will be removed from pandas in a future version. Use pandas.concat instead.\n",
      "  data = tables[0].append(tables[1])\n",
      "c:\\Users\\ANKIT\\AppData\\Local\\Programs\\Python\\Python310\\lib\\site-packages\\yahoo_fin\\stock_info.py:302: FutureWarning: The frame.append method is deprecated and will be removed from pandas in a future version. Use pandas.concat instead.\n",
      "  data = data.append(quote_price)\n"
     ]
    }
   ],
   "source": [
    "data=yf.get_quote_table(stock_ticker)\n"
   ]
  },
  {
   "cell_type": "code",
   "execution_count": 10,
   "metadata": {},
   "outputs": [
    {
     "name": "stdout",
     "output_type": "stream",
     "text": [
      "{'1y Target Est': 3971.8, '52 Week Range': '3,070.25 - 4,184.75', 'Ask': '0.00 x 0', 'Avg. Volume': 2219100.0, 'Beta (5Y Monthly)': 0.53, 'Bid': '0.00 x 0', \"Day's Range\": '4,090.15 - 4,129.50', 'EPS (TTM)': 122.83, 'Earnings Date': 'Apr 10, 2024 - Apr 15, 2024', 'Ex-Dividend Date': 'Jan 19, 2024', 'Forward Dividend & Yield': '51.00 (1.25%)', 'Market Cap': '14.86T', 'Open': 4112.7, 'PE Ratio (TTM)': 33.44, 'Previous Close': 4095.1, 'Quote Price': 4107.10009765625, 'Volume': 64988.0}\n"
     ]
    }
   ],
   "source": [
    "print(data)"
   ]
  },
  {
   "cell_type": "code",
   "execution_count": null,
   "metadata": {},
   "outputs": [],
   "source": []
  }
 ],
 "metadata": {
  "kernelspec": {
   "display_name": "Python 3",
   "language": "python",
   "name": "python3"
  },
  "language_info": {
   "codemirror_mode": {
    "name": "ipython",
    "version": 3
   },
   "file_extension": ".py",
   "mimetype": "text/x-python",
   "name": "python",
   "nbconvert_exporter": "python",
   "pygments_lexer": "ipython3",
   "version": "3.10.1"
  }
 },
 "nbformat": 4,
 "nbformat_minor": 2
}

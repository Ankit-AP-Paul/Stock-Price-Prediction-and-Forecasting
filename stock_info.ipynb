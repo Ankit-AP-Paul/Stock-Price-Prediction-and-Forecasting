{
 "cells": [
  {
   "cell_type": "code",
   "execution_count": 1,
   "metadata": {},
   "outputs": [],
   "source": [
    "import yahoo_fin.stock_info as yf"
   ]
  },
  {
   "cell_type": "code",
   "execution_count": 2,
   "metadata": {},
   "outputs": [],
   "source": [
    "stock_ticker=\"TCS.NS\""
   ]
  },
  {
   "cell_type": "code",
   "execution_count": 5,
   "metadata": {},
   "outputs": [
    {
     "name": "stderr",
     "output_type": "stream",
     "text": [
      "c:\\Users\\ANKIT\\AppData\\Local\\Programs\\Python\\Python310\\lib\\site-packages\\yahoo_fin\\stock_info.py:295: FutureWarning: The frame.append method is deprecated and will be removed from pandas in a future version. Use pandas.concat instead.\n",
      "  data = tables[0].append(tables[1])\n",
      "c:\\Users\\ANKIT\\AppData\\Local\\Programs\\Python\\Python310\\lib\\site-packages\\yahoo_fin\\stock_info.py:302: FutureWarning: The frame.append method is deprecated and will be removed from pandas in a future version. Use pandas.concat instead.\n",
      "  data = data.append(quote_price)\n"
     ]
    }
   ],
   "source": [
    "data=yf.get_quote_table(stock_ticker)\n"
   ]
  },
  {
   "cell_type": "code",
   "execution_count": 6,
   "metadata": {},
   "outputs": [
    {
     "name": "stdout",
     "output_type": "stream",
     "text": [
      "{'1y Target Est': 3627.85, '52 Week Range': '3,052.35 - 3,679.00', 'Ask': '3,542.55 x 0', 'Avg. Volume': 2046203.0, 'Beta (5Y Monthly)': 0.53, 'Bid': '0.00 x 0', \"Day's Range\": '3,538.10 - 3,588.65', 'EPS (TTM)': 119.39, 'Earnings Date': 'Jan 08, 2024 - Jan 12, 2024', 'Ex-Dividend Date': 'Jul 20, 2023', 'Forward Dividend & Yield': '49.00 (1.35%)', 'Market Cap': '12.962T', 'Open': 3575.0, 'PE Ratio (TTM)': 29.67, 'Previous Close': 3609.9, 'Quote Price': 3542.550048828125, 'Volume': 4238764.0}\n"
     ]
    }
   ],
   "source": [
    "print(data)"
   ]
  },
  {
   "cell_type": "code",
   "execution_count": 7,
   "metadata": {},
   "outputs": [],
   "source": [
    "analyst_info=yf.get_analysts_info(stock_ticker)"
   ]
  },
  {
   "cell_type": "code",
   "execution_count": 8,
   "metadata": {},
   "outputs": [
    {
     "name": "stdout",
     "output_type": "stream",
     "text": [
      "{'Earnings Estimate':   Earnings Estimate  Current Qtr. (Sep 2023)  Next Qtr. (Dec 2023)  \\\n",
      "0   No. of Analysts                    21.00                  9.00   \n",
      "1     Avg. Estimate                    30.90                 31.83   \n",
      "2      Low Estimate                    30.14                 30.89   \n",
      "3     High Estimate                    32.60                 33.00   \n",
      "4      Year Ago EPS                    28.51                 29.64   \n",
      "\n",
      "   Current Year (2024)  Next Year (2025)  \n",
      "0                39.00             40.00  \n",
      "1               127.48            141.59  \n",
      "2               122.22            126.87  \n",
      "3               133.20            157.57  \n",
      "4               115.19            127.48  , 'Revenue Estimate':           Revenue Estimate Current Qtr. (Sep 2023) Next Qtr. (Dec 2023)  \\\n",
      "0          No. of Analysts                      22                    7   \n",
      "1            Avg. Estimate                 602.68B              611.55B   \n",
      "2             Low Estimate                 597.93B              602.33B   \n",
      "3            High Estimate                    615B              618.23B   \n",
      "4           Year Ago Sales                 553.09B              582.29B   \n",
      "5  Sales Growth (year/est)                   9.00%                5.00%   \n",
      "\n",
      "  Current Year (2024) Next Year (2025)  \n",
      "0                  40               40  \n",
      "1               2.44T            2.67T  \n",
      "2               2.39T            2.55T  \n",
      "3               2.55T            2.85T  \n",
      "4               2.25T            2.44T  \n",
      "5               8.10%            9.60%  , 'Earnings History':   Earnings History 9/30/2022 12/31/2022 3/31/2023 6/30/2023\n",
      "0         EPS Est.     28.22      30.23     31.59      29.7\n",
      "1       EPS Actual     28.51      29.64     31.14     30.26\n",
      "2       Difference      0.29      -0.59     -0.45      0.56\n",
      "3       Surprise %     1.00%     -2.00%    -1.40%     1.90%, 'EPS Trend':           EPS Trend  Current Qtr. (Sep 2023)  Next Qtr. (Dec 2023)  \\\n",
      "0  Current Estimate                    30.90                 31.83   \n",
      "1        7 Days Ago                    30.89                 31.79   \n",
      "2       30 Days Ago                    31.07                 31.96   \n",
      "3       60 Days Ago                    31.17                 31.97   \n",
      "4       90 Days Ago                    30.79                 31.94   \n",
      "\n",
      "   Current Year (2024)  Next Year (2025)  \n",
      "0               127.48            141.59  \n",
      "1               127.64            141.72  \n",
      "2               127.80            141.66  \n",
      "3               127.98            141.95  \n",
      "4               127.91            141.93  , 'EPS Revisions':        EPS Revisions  Current Qtr. (Sep 2023)  Next Qtr. (Dec 2023)  \\\n",
      "0     Up Last 7 Days                      NaN                   4.0   \n",
      "1    Up Last 30 Days                      3.0                   4.0   \n",
      "2   Down Last 7 Days                      NaN                   NaN   \n",
      "3  Down Last 30 Days                      NaN                   1.0   \n",
      "\n",
      "   Current Year (2024)  Next Year (2025)  \n",
      "0                  5.0               6.0  \n",
      "1                 10.0              10.0  \n",
      "2                  NaN               NaN  \n",
      "3                  8.0               7.0  , 'Growth Estimates':            Growth Estimates  TCS.NS  Industry  Sector(s)  S&P 500\n",
      "0              Current Qtr.   8.40%       NaN        NaN      NaN\n",
      "1                 Next Qtr.   7.40%       NaN        NaN      NaN\n",
      "2              Current Year  10.70%       NaN        NaN      NaN\n",
      "3                 Next Year  11.10%       NaN        NaN      NaN\n",
      "4  Next 5 Years (per annum)   8.00%       NaN        NaN      NaN\n",
      "5  Past 5 Years (per annum)   9.39%       NaN        NaN      NaN}\n"
     ]
    }
   ],
   "source": [
    "print(analyst_info)"
   ]
  },
  {
   "cell_type": "code",
   "execution_count": null,
   "metadata": {},
   "outputs": [],
   "source": []
  }
 ],
 "metadata": {
  "kernelspec": {
   "display_name": "Python 3",
   "language": "python",
   "name": "python3"
  },
  "language_info": {
   "codemirror_mode": {
    "name": "ipython",
    "version": 3
   },
   "file_extension": ".py",
   "mimetype": "text/x-python",
   "name": "python",
   "nbconvert_exporter": "python",
   "pygments_lexer": "ipython3",
   "version": "3.10.1"
  }
 },
 "nbformat": 4,
 "nbformat_minor": 2
}

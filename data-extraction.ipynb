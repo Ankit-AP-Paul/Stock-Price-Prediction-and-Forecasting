{
 "cells": [
  {
   "cell_type": "code",
   "execution_count": 2,
   "metadata": {},
   "outputs": [],
   "source": [
    "import yfinance as yf\n",
    "import pandas as pd"
   ]
  },
  {
   "cell_type": "markdown",
   "metadata": {},
   "source": [
    "Minute = m\n",
    "Hour = hr\n",
    "Days = d\n",
    "Weeks = wk\n",
    "Months = mo\n"
   ]
  },
  {
   "cell_type": "code",
   "execution_count": 3,
   "metadata": {},
   "outputs": [],
   "source": [
    "stock_ticker='TCS.NS'"
   ]
  },
  {
   "cell_type": "code",
   "execution_count": 4,
   "metadata": {},
   "outputs": [
    {
     "name": "stdout",
     "output_type": "stream",
     "text": [
      "[*********************100%***********************]  1 of 1 completed\n"
     ]
    }
   ],
   "source": [
    "data=yf.download(tickers=stock_ticker, period='5y', prepost=True, actions=True)"
   ]
  },
  {
   "cell_type": "code",
   "execution_count": 5,
   "metadata": {},
   "outputs": [
    {
     "name": "stdout",
     "output_type": "stream",
     "text": [
      "                   Open         High          Low        Close    Adj Close  \\\n",
      "Date                                                                          \n",
      "2018-10-15  1940.000000  1955.550049  1920.000000  1949.500000  1749.951050   \n",
      "2018-10-16  1958.000000  1971.900024  1935.000000  1962.300049  1761.440552   \n",
      "2018-10-17  1970.000000  1989.000000  1920.000000  1929.400024  1731.908325   \n",
      "2018-10-19  1929.000000  1929.000000  1870.050049  1913.199951  1717.366455   \n",
      "2018-10-22  1914.000000  1916.000000  1886.949951  1903.000000  1708.210938   \n",
      "...                 ...          ...          ...          ...          ...   \n",
      "2023-10-09  3645.050049  3679.000000  3631.000000  3638.350098  3638.350098   \n",
      "2023-10-10  3640.050049  3648.000000  3601.350098  3628.899902  3628.899902   \n",
      "2023-10-11  3650.000000  3650.000000  3605.000000  3609.899902  3609.899902   \n",
      "2023-10-12  3575.000000  3588.649902  3538.100098  3542.550049  3542.550049   \n",
      "2023-10-13  3530.000000  3577.000000  3525.000000  3570.850098  3570.850098   \n",
      "\n",
      "             Volume  Dividends  Stock Splits  \n",
      "Date                                          \n",
      "2018-10-15  2638151        0.0             0  \n",
      "2018-10-16  2815425        0.0             0  \n",
      "2018-10-17  2779207        0.0             0  \n",
      "2018-10-19  3428776        0.0             0  \n",
      "2018-10-22  1778496        0.0             0  \n",
      "...             ...        ...           ...  \n",
      "2023-10-09  4233074        0.0             0  \n",
      "2023-10-10  1848148        0.0             0  \n",
      "2023-10-11  2426417        0.0             0  \n",
      "2023-10-12  4241281        0.0             0  \n",
      "2023-10-13  2890357        0.0             0  \n",
      "\n",
      "[1236 rows x 8 columns]\n"
     ]
    }
   ],
   "source": [
    "print(data)"
   ]
  },
  {
   "cell_type": "code",
   "execution_count": 6,
   "metadata": {},
   "outputs": [],
   "source": [
    "pd.DataFrame(data).to_csv(f'data\\{stock_ticker}.csv')"
   ]
  },
  {
   "cell_type": "code",
   "execution_count": null,
   "metadata": {},
   "outputs": [],
   "source": []
  }
 ],
 "metadata": {
  "kernelspec": {
   "display_name": "Python 3",
   "language": "python",
   "name": "python3"
  },
  "language_info": {
   "codemirror_mode": {
    "name": "ipython",
    "version": 3
   },
   "file_extension": ".py",
   "mimetype": "text/x-python",
   "name": "python",
   "nbconvert_exporter": "python",
   "pygments_lexer": "ipython3",
   "version": "3.10.1"
  }
 },
 "nbformat": 4,
 "nbformat_minor": 2
}

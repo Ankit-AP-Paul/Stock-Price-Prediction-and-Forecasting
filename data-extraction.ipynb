{
 "cells": [
  {
   "cell_type": "code",
   "execution_count": 1,
   "metadata": {},
   "outputs": [],
   "source": [
    "import yfinance as yf\n",
    "import pandas as pd"
   ]
  },
  {
   "cell_type": "markdown",
   "metadata": {},
   "source": [
    "Minute = m\n",
    "Hour = hr\n",
    "Days = d\n",
    "Weeks = wk\n",
    "Months = mo\n"
   ]
  },
  {
   "cell_type": "code",
   "execution_count": 27,
   "metadata": {},
   "outputs": [],
   "source": [
    "stock_ticker='TCS.NS'\n",
    "time_period='7d'\n",
    "time_interval='1m'"
   ]
  },
  {
   "cell_type": "code",
   "execution_count": 28,
   "metadata": {},
   "outputs": [
    {
     "name": "stdout",
     "output_type": "stream",
     "text": [
      "[*********************100%***********************]  1 of 1 completed\n"
     ]
    }
   ],
   "source": [
    "data=yf.download(tickers=stock_ticker, period=time_period, interval=time_interval)"
   ]
  },
  {
   "cell_type": "code",
   "execution_count": 29,
   "metadata": {},
   "outputs": [
    {
     "name": "stdout",
     "output_type": "stream",
     "text": [
      "                            Open         High          Low        Close  \\\n",
      "Datetime                                                                  \n",
      "2023-09-29 09:15:00  3524.649902  3537.500000  3524.649902  3537.500000   \n",
      "2023-09-29 09:16:00  3539.949951  3555.850098  3539.949951  3550.100098   \n",
      "2023-09-29 09:17:00  3550.800049  3551.800049  3545.649902  3547.199951   \n",
      "2023-09-29 09:18:00  3546.750000  3547.800049  3540.449951  3543.500000   \n",
      "2023-09-29 09:19:00  3541.750000  3545.800049  3541.350098  3545.699951   \n",
      "...                          ...          ...          ...          ...   \n",
      "2023-10-10 15:26:00  3630.250000  3630.350098  3630.050049  3630.199951   \n",
      "2023-10-10 15:27:00  3630.300049  3630.350098  3630.050049  3630.300049   \n",
      "2023-10-10 15:28:00  3630.300049  3632.000000  3630.000000  3630.199951   \n",
      "2023-10-10 15:29:00  3630.199951  3631.500000  3629.000000  3629.300049   \n",
      "2023-10-10 15:30:00  3628.899902  3628.899902  3628.899902  3628.899902   \n",
      "\n",
      "                       Adj Close  Volume  \n",
      "Datetime                                  \n",
      "2023-09-29 09:15:00  3537.500000       0  \n",
      "2023-09-29 09:16:00  3550.100098   19070  \n",
      "2023-09-29 09:17:00  3547.199951   10272  \n",
      "2023-09-29 09:18:00  3543.500000   13824  \n",
      "2023-09-29 09:19:00  3545.699951    9793  \n",
      "...                          ...     ...  \n",
      "2023-10-10 15:26:00  3630.199951    9039  \n",
      "2023-10-10 15:27:00  3630.300049   10355  \n",
      "2023-10-10 15:28:00  3630.199951   19135  \n",
      "2023-10-10 15:29:00  3629.300049    7675  \n",
      "2023-10-10 15:30:00  3628.899902       0  \n",
      "\n",
      "[2622 rows x 6 columns]\n"
     ]
    }
   ],
   "source": [
    "print(data)"
   ]
  },
  {
   "cell_type": "code",
   "execution_count": 30,
   "metadata": {},
   "outputs": [],
   "source": [
    "pd.DataFrame(data).to_csv(f'{stock_ticker}.csv')"
   ]
  }
 ],
 "metadata": {
  "kernelspec": {
   "display_name": "Python 3",
   "language": "python",
   "name": "python3"
  },
  "language_info": {
   "codemirror_mode": {
    "name": "ipython",
    "version": 3
   },
   "file_extension": ".py",
   "mimetype": "text/x-python",
   "name": "python",
   "nbconvert_exporter": "python",
   "pygments_lexer": "ipython3",
   "version": "3.10.1"
  }
 },
 "nbformat": 4,
 "nbformat_minor": 2
}

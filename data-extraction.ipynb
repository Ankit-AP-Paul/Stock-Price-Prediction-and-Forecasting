{
 "cells": [
  {
   "cell_type": "code",
   "execution_count": 1,
   "metadata": {},
   "outputs": [],
   "source": [
    "import yfinance as yf\n",
    "import pandas as pd"
   ]
  },
  {
   "cell_type": "markdown",
   "metadata": {},
   "source": [
    "Minute = m\n",
    "Hour = hr\n",
    "Days = d\n",
    "Weeks = wk\n",
    "Months = mo\n"
   ]
  },
  {
   "cell_type": "code",
   "execution_count": 2,
   "metadata": {},
   "outputs": [],
   "source": [
    "stock_ticker='TCS.NS'"
   ]
  },
  {
   "cell_type": "code",
   "execution_count": 8,
   "metadata": {},
   "outputs": [
    {
     "name": "stdout",
     "output_type": "stream",
     "text": [
      "[*********************100%***********************]  1 of 1 completed\n"
     ]
    }
   ],
   "source": [
    "data=yf.download(tickers=stock_ticker, period='max', prepost=True, actions=True)"
   ]
  },
  {
   "cell_type": "code",
   "execution_count": 9,
   "metadata": {},
   "outputs": [
    {
     "name": "stdout",
     "output_type": "stream",
     "text": [
      "                   Open         High          Low        Close    Adj Close  \\\n",
      "Date                                                                          \n",
      "2002-08-12    38.724998    40.000000    38.724998    39.700001    28.201387   \n",
      "2002-08-13    39.750000    40.387501    38.875000    39.162498    27.819563   \n",
      "2002-08-14    39.250000    39.250000    35.724998    36.462502    25.901581   \n",
      "2002-08-15    36.462502    36.462502    36.462502    36.462502    25.901581   \n",
      "2002-08-16    36.275002    38.000000    35.750000    36.375000    25.839417   \n",
      "...                 ...          ...          ...          ...          ...   \n",
      "2023-10-09  3645.050049  3679.000000  3631.000000  3638.350098  3638.350098   \n",
      "2023-10-10  3640.050049  3648.000000  3601.350098  3628.899902  3628.899902   \n",
      "2023-10-11  3650.000000  3650.000000  3605.000000  3609.899902  3609.899902   \n",
      "2023-10-12  3575.000000  3588.649902  3538.100098  3542.550049  3542.550049   \n",
      "2023-10-13  3530.000000  3577.000000  3525.000000  3570.850098  3570.850098   \n",
      "\n",
      "             Volume  Dividends  Stock Splits  \n",
      "Date                                          \n",
      "2002-08-12   212976        0.0           0.0  \n",
      "2002-08-13   153576        0.0           0.0  \n",
      "2002-08-14   822776        0.0           0.0  \n",
      "2002-08-15        0        0.0           0.0  \n",
      "2002-08-16   811856        0.0           0.0  \n",
      "...             ...        ...           ...  \n",
      "2023-10-09  4233074        0.0           0.0  \n",
      "2023-10-10  1848148        0.0           0.0  \n",
      "2023-10-11  2426417        0.0           0.0  \n",
      "2023-10-12  4241281        0.0           0.0  \n",
      "2023-10-13  2890357        0.0           0.0  \n",
      "\n",
      "[5260 rows x 8 columns]\n"
     ]
    }
   ],
   "source": [
    "print(data)"
   ]
  },
  {
   "cell_type": "code",
   "execution_count": 6,
   "metadata": {},
   "outputs": [],
   "source": [
    "pd.DataFrame(data).to_csv(f'data\\{stock_ticker}.csv')"
   ]
  },
  {
   "cell_type": "code",
   "execution_count": null,
   "metadata": {},
   "outputs": [],
   "source": []
  }
 ],
 "metadata": {
  "kernelspec": {
   "display_name": "Python 3",
   "language": "python",
   "name": "python3"
  },
  "language_info": {
   "codemirror_mode": {
    "name": "ipython",
    "version": 3
   },
   "file_extension": ".py",
   "mimetype": "text/x-python",
   "name": "python",
   "nbconvert_exporter": "python",
   "pygments_lexer": "ipython3",
   "version": "3.10.1"
  }
 },
 "nbformat": 4,
 "nbformat_minor": 2
}
